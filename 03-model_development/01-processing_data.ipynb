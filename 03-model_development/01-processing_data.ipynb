{
 "cells": [
  {
   "attachments": {},
   "cell_type": "markdown",
   "metadata": {},
   "source": [
    "## EDA\n",
    "\n",
    "Para este notebook he decidido trabajar con un kernel que tengo el cual cree con anaconda y lo llamé mlops, podés añadir las dependencias que necesites al toml si lo deseas e importar el kernel en el notebook. En lo personal, cuando son cosas muy de EDA, prefiero trabajar local y en ambientes que tengo especificamente para eso.  "
   ]
  },
  {
   "cell_type": "code",
   "execution_count": 1,
   "metadata": {},
   "outputs": [],
   "source": [
    "!pip install wandb -qq"
   ]
  },
  {
   "cell_type": "code",
   "execution_count": 26,
   "metadata": {},
   "outputs": [],
   "source": [
    "from fastai.vision.all import *\n",
    "import wandb\n",
    "from params import *\n",
    "import numpy as np"
   ]
  },
  {
   "cell_type": "code",
   "execution_count": 33,
   "metadata": {},
   "outputs": [],
   "source": [
    "\n",
    "DEBUG = False # set this flag to True to use a small subset of data for testing"
   ]
  },
  {
   "cell_type": "code",
   "execution_count": 11,
   "metadata": {},
   "outputs": [],
   "source": [
    "URL = \"https://storage.googleapis.com/wandb_course/bdd_simple_1k.zip\""
   ]
  },
  {
   "cell_type": "code",
   "execution_count": 12,
   "metadata": {},
   "outputs": [
    {
     "data": {
      "text/html": [
       "\n",
       "<style>\n",
       "    /* Turns off some styling */\n",
       "    progress {\n",
       "        /* gets rid of default border in Firefox and Opera. */\n",
       "        border: none;\n",
       "        /* Needs to be in here for Safari polyfill so background images work as expected. */\n",
       "        background-size: auto;\n",
       "    }\n",
       "    progress:not([value]), progress:not([value])::-webkit-progress-bar {\n",
       "        background: repeating-linear-gradient(45deg, #7e7e7e, #7e7e7e 10px, #5c5c5c 10px, #5c5c5c 20px);\n",
       "    }\n",
       "    .progress-bar-interrupted, .progress-bar-interrupted::-webkit-progress-bar {\n",
       "        background: #F44336;\n",
       "    }\n",
       "</style>\n"
      ],
      "text/plain": [
       "<IPython.core.display.HTML object>"
      ]
     },
     "metadata": {},
     "output_type": "display_data"
    },
    {
     "data": {
      "text/html": [
       "\n",
       "    <div>\n",
       "      <progress value='122470400' class='' max='122467691' style='width:300px; height:20px; vertical-align: middle;'></progress>\n",
       "      100.00% [122470400/122467691 00:06&lt;00:00]\n",
       "    </div>\n",
       "    "
      ],
      "text/plain": [
       "<IPython.core.display.HTML object>"
      ]
     },
     "metadata": {},
     "output_type": "display_data"
    }
   ],
   "source": [
    "path = Path(untar_data(URL), force_download=True, path= \"/Users/mdurango/Proyect/MLOpsAvanzado/03-model_development\")"
   ]
  },
  {
   "cell_type": "code",
   "execution_count": 17,
   "metadata": {},
   "outputs": [
    {
     "data": {
      "text/plain": [
       "(#3) [Path('/Users/mdurango/.fastai/data/bdd_simple_1k/images'),Path('/Users/mdurango/.fastai/data/bdd_simple_1k/labels'),Path('/Users/mdurango/.fastai/data/bdd_simple_1k/LICENSE.txt')]"
      ]
     },
     "execution_count": 17,
     "metadata": {},
     "output_type": "execute_result"
    }
   ],
   "source": [
    "path.ls()"
   ]
  },
  {
   "cell_type": "code",
   "execution_count": 14,
   "metadata": {},
   "outputs": [
    {
     "data": {
      "text/plain": [
       "(#3) [Path('/Users/mdurango/.fastai/data/bdd_simple_1k/images'),Path('/Users/mdurango/.fastai/data/bdd_simple_1k/labels'),Path('/Users/mdurango/.fastai/data/bdd_simple_1k/LICENSE.txt')]"
      ]
     },
     "execution_count": 14,
     "metadata": {},
     "output_type": "execute_result"
    }
   ],
   "source": [
    "path.ls()\n",
    "# identificado el path lo muevo a mi carpeta en el repo con mv, fastai es una carpeta oculta por lo que no se ve en el ls\n",
    "# ls -a muestra las carpetas ocultas\n"
   ]
  },
  {
   "cell_type": "code",
   "execution_count": 21,
   "metadata": {},
   "outputs": [],
   "source": [
    "\n",
    "def label_func(fname):\n",
    "    return (fname.parent.parent/\"labels\")/f\"{fname.stem}_mask.png\""
   ]
  },
  {
   "cell_type": "code",
   "execution_count": 22,
   "metadata": {},
   "outputs": [],
   "source": [
    "def get_classes_per_image(mask_data, class_labels):\n",
    "    \"\"\"this function return a dictionary with the presence of each class in the image\n",
    "\n",
    "    Args:\n",
    "        - mask_data: numpy array with the mask data\n",
    "        - class_labels: dictionary with the class labels\n",
    "\n",
    "    Returns:\n",
    "        - result_dict: dictionary with the presence of each class in the image\n",
    "        where 1 means that the class is present and 0 means that the class is not present\n",
    "    \"\"\"\n",
    "    unique = list(np.unique(mask_data))  # unique labels present in the mask image\n",
    "    result_dict = {}\n",
    "    for _class in class_labels.keys():\n",
    "        result_dict[class_labels[_class]] = int(_class in unique)\n",
    "    return result_dict"
   ]
  },
  {
   "cell_type": "code",
   "execution_count": 36,
   "metadata": {},
   "outputs": [],
   "source": [
    "def _create_table(image_files, class_labels):\n",
    "    \"\"\" this function creates a data table with the dataset\n",
    "    Args:\n",
    "        - image_files: list with the path of the image files\n",
    "        - class_labels: dictionary with the class labels\n",
    "    Returns:\n",
    "        - table: wandb table with the following columns: \"File_Name\", \"Images\", \"Split\" and the class labels\"\"\" \n",
    "    # Función para crear una tabla de datos con el conjunto de datos\n",
    "    labels = [str(class_labels[_lab]) for _lab in list(class_labels)]\n",
    "    # Crear una tabla con las siguientes columnas: \"File_Name\", \"Images\", \"Split\" y las etiquetas de clase\n",
    "    table = wandb.Table(columns=[\"File_Name\", \"Images\", \"Split\"] + labels)\n",
    "    \n",
    "    for i, image_file in progress_bar(enumerate(image_files), total=len(image_files)):\n",
    "        # Abrir la imagen desde el archivo\n",
    "        image = Image.open(image_file)\n",
    "        # Leer los datos de máscara desde un archivo utilizando la función label_func\n",
    "        mask_data = np.array(Image.open(label_func(image_file)))\n",
    "        # Obtener las clases presentes en la imagen utilizando la función get_classes_per_image\n",
    "        class_in_image = get_classes_per_image(mask_data, class_labels)\n",
    "        \n",
    "        # Agregar datos a la tabla\n",
    "        table.add_data(\n",
    "            str(image_file.name),  # Nombre del archivo de imagen\n",
    "            wandb.Image(\n",
    "                    image,\n",
    "                    masks={\n",
    "                        \"predictions\": {\n",
    "                            \"mask_data\": mask_data,\n",
    "                            \"class_labels\": class_labels,\n",
    "                        }\n",
    "                    }\n",
    "            ),  # Imagen con máscaras para visualización\n",
    "            \"None\",  # No tenemos una división de conjunto de datos todavía\n",
    "            *[class_in_image[_lab] for _lab in labels]  # Clases presentes en la imagen\n",
    "        )\n",
    "    \n",
    "    return table  # Devolver la tabla de datos\n"
   ]
  },
  {
   "cell_type": "code",
   "execution_count": 29,
   "metadata": {},
   "outputs": [
    {
     "name": "stderr",
     "output_type": "stream",
     "text": [
      "Failed to detect the name of this notebook, you can set it manually with the WANDB_NOTEBOOK_NAME environment variable to enable code saving.\n",
      "\u001b[34m\u001b[1mwandb\u001b[0m: Currently logged in as: \u001b[33mdramisauria\u001b[0m. Use \u001b[1m`wandb login --relogin`\u001b[0m to force relogin\n"
     ]
    },
    {
     "data": {
      "text/html": [
       "wandb version 0.15.11 is available!  To upgrade, please run:\n",
       " $ pip install wandb --upgrade"
      ],
      "text/plain": [
       "<IPython.core.display.HTML object>"
      ]
     },
     "metadata": {},
     "output_type": "display_data"
    },
    {
     "data": {
      "text/html": [
       "Tracking run with wandb version 0.15.3"
      ],
      "text/plain": [
       "<IPython.core.display.HTML object>"
      ]
     },
     "metadata": {},
     "output_type": "display_data"
    },
    {
     "data": {
      "text/html": [
       "Run data is saved locally in <code>/Users/mdurango/Proyect/MLOpsAvanzado/03-model_development/wandb/run-20230923_180624-t7ajwdlc</code>"
      ],
      "text/plain": [
       "<IPython.core.display.HTML object>"
      ]
     },
     "metadata": {},
     "output_type": "display_data"
    },
    {
     "data": {
      "text/html": [
       "Syncing run <strong><a href='https://wandb.ai/dramisauria/segmentation-mlops/runs/t7ajwdlc' target=\"_blank\">revived-bush-3</a></strong> to <a href='https://wandb.ai/dramisauria/segmentation-mlops' target=\"_blank\">Weights & Biases</a> (<a href='https://wandb.me/run' target=\"_blank\">docs</a>)<br/>"
      ],
      "text/plain": [
       "<IPython.core.display.HTML object>"
      ]
     },
     "metadata": {},
     "output_type": "display_data"
    },
    {
     "data": {
      "text/html": [
       " View project at <a href='https://wandb.ai/dramisauria/segmentation-mlops' target=\"_blank\">https://wandb.ai/dramisauria/segmentation-mlops</a>"
      ],
      "text/plain": [
       "<IPython.core.display.HTML object>"
      ]
     },
     "metadata": {},
     "output_type": "display_data"
    },
    {
     "data": {
      "text/html": [
       " View run at <a href='https://wandb.ai/dramisauria/segmentation-mlops/runs/t7ajwdlc' target=\"_blank\">https://wandb.ai/dramisauria/segmentation-mlops/runs/t7ajwdlc</a>"
      ],
      "text/plain": [
       "<IPython.core.display.HTML object>"
      ]
     },
     "metadata": {},
     "output_type": "display_data"
    }
   ],
   "source": [
    "# start a new run wandb\n",
    "run = wandb.init(project=\"segmentation-mlops\", entity=None, job_type=\"upload\")\n",
    "raw_data_at = wandb.Artifact('bdd_simple_1k', type=\"raw_data\")\n",
    "# Ojo, acá se debe poner el nombre del proyecto, en name o entity, es como el nombre o el usuario\n",
    "# con que van a instanciar el init, pueden usar su usuario o una organización como entidad (entity)"
   ]
  },
  {
   "cell_type": "code",
   "execution_count": 30,
   "metadata": {},
   "outputs": [
    {
     "data": {
      "text/plain": [
       "ArtifactManifestEntry(path='LICENSE.txt', digest='X+6ZFkDOlnKesJCNt20yRg==', ref=None, birth_artifact_id=None, size=1594, extra={}, local_path='/Users/mdurango/Library/Application Support/wandb/artifacts/staging/tmp7ro1neyf')"
      ]
     },
     "execution_count": 30,
     "metadata": {},
     "output_type": "execute_result"
    }
   ],
   "source": [
    "raw_data_at.add_file(path/'LICENSE.txt', name='LICENSE.txt')"
   ]
  },
  {
   "cell_type": "code",
   "execution_count": 31,
   "metadata": {},
   "outputs": [
    {
     "name": "stderr",
     "output_type": "stream",
     "text": [
      "\u001b[34m\u001b[1mwandb\u001b[0m: Adding directory to artifact (/Users/mdurango/.fastai/data/bdd_simple_1k/images)... Done. 0.4s\n",
      "\u001b[34m\u001b[1mwandb\u001b[0m: Adding directory to artifact (/Users/mdurango/.fastai/data/bdd_simple_1k/labels)... Done. 0.4s\n"
     ]
    }
   ],
   "source": [
    "raw_data_at.add_dir(path/'images', name='images')\n",
    "raw_data_at.add_dir(path/'labels', name='labels')"
   ]
  },
  {
   "cell_type": "code",
   "execution_count": 34,
   "metadata": {},
   "outputs": [],
   "source": [
    "image_files = get_image_files(path/\"images\", recurse=False)\n",
    "# sample a subset if DEBUG\n",
    "if DEBUG: image_files = image_files[:10]"
   ]
  },
  {
   "cell_type": "code",
   "execution_count": 38,
   "metadata": {},
   "outputs": [],
   "source": [
    "BDD_CLASSES = {\n",
    "    i: c\n",
    "    for i, c in enumerate(\n",
    "        [\n",
    "            \"background\",\n",
    "            \"road\",\n",
    "            \"traffic light\",\n",
    "            \"traffic sign\",\n",
    "            \"person\",\n",
    "            \"vehicle\",\n",
    "            \"bicycle\",\n",
    "        ]\n",
    "    )\n",
    "}"
   ]
  },
  {
   "cell_type": "code",
   "execution_count": 39,
   "metadata": {},
   "outputs": [
    {
     "data": {
      "text/plain": [
       "{0: 'background',\n",
       " 1: 'road',\n",
       " 2: 'traffic light',\n",
       " 3: 'traffic sign',\n",
       " 4: 'person',\n",
       " 5: 'vehicle',\n",
       " 6: 'bicycle'}"
      ]
     },
     "execution_count": 39,
     "metadata": {},
     "output_type": "execute_result"
    }
   ],
   "source": [
    "BDD_CLASSES"
   ]
  },
  {
   "cell_type": "code",
   "execution_count": 40,
   "metadata": {},
   "outputs": [
    {
     "data": {
      "text/html": [
       "\n",
       "<style>\n",
       "    /* Turns off some styling */\n",
       "    progress {\n",
       "        /* gets rid of default border in Firefox and Opera. */\n",
       "        border: none;\n",
       "        /* Needs to be in here for Safari polyfill so background images work as expected. */\n",
       "        background-size: auto;\n",
       "    }\n",
       "    progress:not([value]), progress:not([value])::-webkit-progress-bar {\n",
       "        background: repeating-linear-gradient(45deg, #7e7e7e, #7e7e7e 10px, #5c5c5c 10px, #5c5c5c 20px);\n",
       "    }\n",
       "    .progress-bar-interrupted, .progress-bar-interrupted::-webkit-progress-bar {\n",
       "        background: #F44336;\n",
       "    }\n",
       "</style>\n"
      ],
      "text/plain": [
       "<IPython.core.display.HTML object>"
      ]
     },
     "metadata": {},
     "output_type": "display_data"
    },
    {
     "data": {
      "text/html": [
       "\n",
       "    <div>\n",
       "      <progress value='1000' class='' max='1000' style='width:300px; height:20px; vertical-align: middle;'></progress>\n",
       "      100.00% [1000/1000 03:43&lt;00:00]\n",
       "    </div>\n",
       "    "
      ],
      "text/plain": [
       "<IPython.core.display.HTML object>"
      ]
     },
     "metadata": {},
     "output_type": "display_data"
    }
   ],
   "source": [
    "table = _create_table(image_files, BDD_CLASSES)"
   ]
  },
  {
   "cell_type": "code",
   "execution_count": 41,
   "metadata": {},
   "outputs": [
    {
     "data": {
      "text/plain": [
       "ArtifactManifestEntry(path='eda_table.table.json', digest='Kb95NefVOOU0ulL2SYXFtw==', ref=None, birth_artifact_id=None, size=588824, extra={}, local_path='/Users/mdurango/Library/Application Support/wandb/artifacts/staging/tmpgp_df8zu')"
      ]
     },
     "execution_count": 41,
     "metadata": {},
     "output_type": "execute_result"
    }
   ],
   "source": [
    "# guardamos la tabla en wandb y terminamos el run\n",
    "raw_data_at.add(table, \"eda_table\")"
   ]
  },
  {
   "cell_type": "code",
   "execution_count": 42,
   "metadata": {},
   "outputs": [
    {
     "data": {
      "text/html": [
       "Waiting for W&B process to finish... <strong style=\"color:green\">(success).</strong>"
      ],
      "text/plain": [
       "<IPython.core.display.HTML object>"
      ]
     },
     "metadata": {},
     "output_type": "display_data"
    },
    {
     "data": {
      "text/html": [
       " View run <strong style=\"color:#cdcd00\">revived-bush-3</strong> at: <a href='https://wandb.ai/dramisauria/segmentation-mlops/runs/t7ajwdlc' target=\"_blank\">https://wandb.ai/dramisauria/segmentation-mlops/runs/t7ajwdlc</a><br/>Synced 6 W&B file(s), 0 media file(s), 4007 artifact file(s) and 0 other file(s)"
      ],
      "text/plain": [
       "<IPython.core.display.HTML object>"
      ]
     },
     "metadata": {},
     "output_type": "display_data"
    },
    {
     "data": {
      "text/html": [
       "Find logs at: <code>./wandb/run-20230923_180624-t7ajwdlc/logs</code>"
      ],
      "text/plain": [
       "<IPython.core.display.HTML object>"
      ]
     },
     "metadata": {},
     "output_type": "display_data"
    }
   ],
   "source": [
    "run.log_artifact(raw_data_at)\n",
    "run.finish()"
   ]
  },
  {
   "attachments": {},
   "cell_type": "markdown",
   "metadata": {},
   "source": [
    "### Conclusiones de esto:\n",
    "\n",
    "wandb: Adding directory to artifact (/Users/mdurango/.fastai/data/bdd_simple_1k/images)... Done. 0.4s: Este mensaje indica que se está agregando un directorio al artefacto en wandb. El directorio en cuestión es /Users/mdurango/.fastai/data/bdd_simple_1k/images. El término \"Done\" significa que la operación se completó con éxito. Además, se muestra el tiempo que tomó la operación, que en este caso fue de 0.4 segundos.\n",
    "\n",
    "wandb: Adding directory to artifact (/Users/mdurango/.fastai/data/bdd_simple_1k/labels)... Done. 0.4s: Este mensaje es similar al primero, pero se refiere a otro directorio. En este caso, se está agregando el directorio /Users/mdurango/.fastai/data/bdd_simple_1k/labels al artefacto. Al igual que en el primer mensaje, \"Done\" indica que la operación se realizó con éxito, y se muestra el tiempo que tomó la operación, que también fue de 0.4 segundos.\n",
    "\n",
    "Estos mensajes son una confirmación de que los directorios especificados se han agregado correctamente como parte del artefacto en wandb. Los artefactos te permiten rastrear y versionar tus datos y recursos, lo que es útil para mantener un registro organizado de los elementos utilizados en tus experimentos y compartirlos con otros colaboradores en wandb si es necesario.\n",
    "\n",
    "\n",
    "Un artifact puede ser tipo model o bytes. "
   ]
  }
 ],
 "metadata": {
  "kernelspec": {
   "display_name": "Python 3",
   "language": "python",
   "name": "python3"
  },
  "language_info": {
   "codemirror_mode": {
    "name": "ipython",
    "version": 3
   },
   "file_extension": ".py",
   "mimetype": "text/x-python",
   "name": "python",
   "nbconvert_exporter": "python",
   "pygments_lexer": "ipython3",
   "version": "3.8.16"
  },
  "orig_nbformat": 4
 },
 "nbformat": 4,
 "nbformat_minor": 2
}
